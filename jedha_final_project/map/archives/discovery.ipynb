{
 "cells": [
  {
   "cell_type": "code",
   "execution_count": 86,
   "metadata": {},
   "outputs": [],
   "source": [
    "import geopandas as gpd\n",
    "import matplotlib.pyplot as plt\n",
    "import json\n",
    "import plotly.express as px\n",
    "import pandas as pd\n",
    "import folium\n",
    "import streamlit as st\n",
    "import folium\n",
    "from streamlit_folium import st_folium\n",
    "from shapely.geometry import box"
   ]
  },
  {
   "cell_type": "code",
   "execution_count": 87,
   "metadata": {},
   "outputs": [
    {
     "name": "stderr",
     "output_type": "stream",
     "text": [
      "c:\\Users\\j3r3m\\miniconda3\\envs\\final_project\\Lib\\site-packages\\geopandas\\geodataframe.py:1819: SettingWithCopyWarning: \n",
      "A value is trying to be set on a copy of a slice from a DataFrame.\n",
      "Try using .loc[row_indexer,col_indexer] = value instead\n",
      "\n",
      "See the caveats in the documentation: https://pandas.pydata.org/pandas-docs/stable/user_guide/indexing.html#returning-a-view-versus-a-copy\n",
      "  super().__setitem__(key, value)\n"
     ]
    },
    {
     "data": {
      "text/html": [
       "<div>\n",
       "<style scoped>\n",
       "    .dataframe tbody tr th:only-of-type {\n",
       "        vertical-align: middle;\n",
       "    }\n",
       "\n",
       "    .dataframe tbody tr th {\n",
       "        vertical-align: top;\n",
       "    }\n",
       "\n",
       "    .dataframe thead th {\n",
       "        text-align: right;\n",
       "    }\n",
       "</style>\n",
       "<table border=\"1\" class=\"dataframe\">\n",
       "  <thead>\n",
       "    <tr style=\"text-align: right;\">\n",
       "      <th></th>\n",
       "      <th>region</th>\n",
       "      <th>enjeu</th>\n",
       "      <th>geometry</th>\n",
       "    </tr>\n",
       "  </thead>\n",
       "  <tbody>\n",
       "    <tr>\n",
       "      <th>0</th>\n",
       "      <td>PAYS DE LA LOIRE</td>\n",
       "      <td>2</td>\n",
       "      <td>MULTIPOLYGON (((416294 6634866, 416324 6634876...</td>\n",
       "    </tr>\n",
       "    <tr>\n",
       "      <th>3</th>\n",
       "      <td>PAYS DE LA LOIRE</td>\n",
       "      <td>3</td>\n",
       "      <td>MULTIPOLYGON (((543406.563 6786093.228, 543367...</td>\n",
       "    </tr>\n",
       "  </tbody>\n",
       "</table>\n",
       "</div>"
      ],
      "text/plain": [
       "             region  enjeu                                           geometry\n",
       "0  PAYS DE LA LOIRE      2  MULTIPOLYGON (((416294 6634866, 416324 6634876...\n",
       "3  PAYS DE LA LOIRE      3  MULTIPOLYGON (((543406.563 6786093.228, 543367..."
      ]
     },
     "execution_count": 87,
     "metadata": {},
     "output_type": "execute_result"
    }
   ],
   "source": [
    "pays_de_la_loire = gpd.read_file('Pays_de_la_Loire.json')\n",
    "pays_de_la_loire_enjeu_2_3 = pays_de_la_loire[(pays_de_la_loire['enjeu'] == 2) | (pays_de_la_loire['enjeu'] == 3)]\n",
    "# pays_de_la_loire_enjeu_2_3 = pays_de_la_loire.copy()\n",
    "\n",
    "latitude = 47.98199   # Replace with your desired latitude\n",
    "longitude = 0.1133009\n",
    "\n",
    "# Create a base map\n",
    "m = folium.Map(location=[latitude, longitude], zoom_start=2)  # Adjust latitude and longitude to your region\n",
    "\n",
    "pays_de_la_loire_enjeu_2_3['region'] = 'PAYS DE LA LOIRE'\n",
    "columns_to_keep = ['region', 'enjeu', 'geometry']\n",
    "\n",
    "pays_de_la_loire_enjeu_2_3 = pays_de_la_loire_enjeu_2_3[columns_to_keep]\n",
    "pays_de_la_loire_enjeu_2_3\n",
    "\n",
    "\n",
    "\n"
   ]
  },
  {
   "cell_type": "code",
   "execution_count": 89,
   "metadata": {},
   "outputs": [
    {
     "data": {
      "text/html": [
       "<div>\n",
       "<style scoped>\n",
       "    .dataframe tbody tr th:only-of-type {\n",
       "        vertical-align: middle;\n",
       "    }\n",
       "\n",
       "    .dataframe tbody tr th {\n",
       "        vertical-align: top;\n",
       "    }\n",
       "\n",
       "    .dataframe thead th {\n",
       "        text-align: right;\n",
       "    }\n",
       "</style>\n",
       "<table border=\"1\" class=\"dataframe\">\n",
       "  <thead>\n",
       "    <tr style=\"text-align: right;\">\n",
       "      <th></th>\n",
       "      <th>region</th>\n",
       "      <th>enjeu</th>\n",
       "      <th>geometry</th>\n",
       "    </tr>\n",
       "  </thead>\n",
       "  <tbody>\n",
       "    <tr>\n",
       "      <th>0</th>\n",
       "      <td>AUVERGNE RHONE ALPES</td>\n",
       "      <td>2</td>\n",
       "      <td>MULTIPOLYGON (((782722.299 6375074.051, 782715...</td>\n",
       "    </tr>\n",
       "    <tr>\n",
       "      <th>1</th>\n",
       "      <td>AUVERGNE RHONE ALPES</td>\n",
       "      <td>3</td>\n",
       "      <td>MULTIPOLYGON (((786495.409 6359441.378, 786480...</td>\n",
       "    </tr>\n",
       "  </tbody>\n",
       "</table>\n",
       "</div>"
      ],
      "text/plain": [
       "                 region enjeu  \\\n",
       "0  AUVERGNE RHONE ALPES     2   \n",
       "1  AUVERGNE RHONE ALPES     3   \n",
       "\n",
       "                                            geometry  \n",
       "0  MULTIPOLYGON (((782722.299 6375074.051, 782715...  \n",
       "1  MULTIPOLYGON (((786495.409 6359441.378, 786480...  "
      ]
     },
     "execution_count": 89,
     "metadata": {},
     "output_type": "execute_result"
    }
   ],
   "source": [
    "file_paths = [\n",
    "    # \"aura_enjeu_0.gpkg\",\n",
    "    # \"aura_enjeu_1.gpkg\",\n",
    "    \"aura_enjeu_2.gpkg\",\n",
    "    \"aura_enjeu_3.gpkg\",\n",
    "]\n",
    "# Initialize an empty list to store each GeoDataFrame\n",
    "gdfs = []\n",
    "\n",
    "# Loop through each file path and read the GeoPackage file\n",
    "for file_path in file_paths:\n",
    "    # Read the GeoPackage into a GeoDataFrame\n",
    "    gdf = gpd.read_file(file_path)\n",
    "    \n",
    "    # Append the GeoDataFrame to the list\n",
    "    gdfs.append(gdf)\n",
    "\n",
    "# Concatenate all GeoDataFrames into a single GeoDataFrame\n",
    "aura_enjeu_2_3 = gpd.GeoDataFrame(pd.concat(gdfs, ignore_index=True))\n",
    "aura_enjeu_2_3.rename(columns={'code_enjeu': 'enjeu'}, inplace=True)\n",
    "aura_enjeu_2_3 = aura_enjeu_2_3[columns_to_keep]\n",
    "\n",
    "aura_enjeu_2_3\n"
   ]
  },
  {
   "cell_type": "code",
   "execution_count": 90,
   "metadata": {},
   "outputs": [
    {
     "data": {
      "text/html": [
       "<div>\n",
       "<style scoped>\n",
       "    .dataframe tbody tr th:only-of-type {\n",
       "        vertical-align: middle;\n",
       "    }\n",
       "\n",
       "    .dataframe tbody tr th {\n",
       "        vertical-align: top;\n",
       "    }\n",
       "\n",
       "    .dataframe thead th {\n",
       "        text-align: right;\n",
       "    }\n",
       "</style>\n",
       "<table border=\"1\" class=\"dataframe\">\n",
       "  <thead>\n",
       "    <tr style=\"text-align: right;\">\n",
       "      <th></th>\n",
       "      <th>region</th>\n",
       "      <th>enjeu</th>\n",
       "      <th>geometry</th>\n",
       "    </tr>\n",
       "  </thead>\n",
       "  <tbody>\n",
       "    <tr>\n",
       "      <th>0</th>\n",
       "      <td>PAYS DE LA LOIRE</td>\n",
       "      <td>2</td>\n",
       "      <td>MULTIPOLYGON (((416294 6634866, 416324 6634876...</td>\n",
       "    </tr>\n",
       "    <tr>\n",
       "      <th>1</th>\n",
       "      <td>PAYS DE LA LOIRE</td>\n",
       "      <td>3</td>\n",
       "      <td>MULTIPOLYGON (((543406.563 6786093.228, 543367...</td>\n",
       "    </tr>\n",
       "    <tr>\n",
       "      <th>2</th>\n",
       "      <td>AUVERGNE RHONE ALPES</td>\n",
       "      <td>2</td>\n",
       "      <td>MULTIPOLYGON (((782722.299 6375074.051, 782715...</td>\n",
       "    </tr>\n",
       "    <tr>\n",
       "      <th>3</th>\n",
       "      <td>AUVERGNE RHONE ALPES</td>\n",
       "      <td>3</td>\n",
       "      <td>MULTIPOLYGON (((786495.409 6359441.378, 786480...</td>\n",
       "    </tr>\n",
       "  </tbody>\n",
       "</table>\n",
       "</div>"
      ],
      "text/plain": [
       "                 region  enjeu  \\\n",
       "0      PAYS DE LA LOIRE      2   \n",
       "1      PAYS DE LA LOIRE      3   \n",
       "2  AUVERGNE RHONE ALPES      2   \n",
       "3  AUVERGNE RHONE ALPES      3   \n",
       "\n",
       "                                            geometry  \n",
       "0  MULTIPOLYGON (((416294 6634866, 416324 6634876...  \n",
       "1  MULTIPOLYGON (((543406.563 6786093.228, 543367...  \n",
       "2  MULTIPOLYGON (((782722.299 6375074.051, 782715...  \n",
       "3  MULTIPOLYGON (((786495.409 6359441.378, 786480...  "
      ]
     },
     "execution_count": 90,
     "metadata": {},
     "output_type": "execute_result"
    }
   ],
   "source": [
    "df_final = pd.concat([pays_de_la_loire_enjeu_2_3, aura_enjeu_2_3], ignore_index=True)\n",
    "df_final['enjeu'] = df_final['enjeu'].astype(int)\n",
    "df_final"
   ]
  },
  {
   "cell_type": "code",
   "execution_count": 91,
   "metadata": {},
   "outputs": [
    {
     "data": {
      "text/plain": [
       "<folium.raster_layers.TileLayer at 0x21406a6f3e0>"
      ]
     },
     "execution_count": 91,
     "metadata": {},
     "output_type": "execute_result"
    }
   ],
   "source": [
    "# Define the style function to apply different colors based on the 'enjeu' property\n",
    "def style_function(feature):\n",
    "    enjeu = feature['properties'].get('enjeu', 0)\n",
    "    color_map = {\n",
    "        0: 'white',    # Color for 'enjeu' = 0\n",
    "        1: 'blue',    # Color for 'enjeu' = 1\n",
    "        2: 'orange',   # Color for 'enjeu' = 2\n",
    "        3: 'red',     # Color for 'enjeu' = 3\n",
    "        'default': 'grey'  # Default color\n",
    "    }\n",
    "    return {\n",
    "        'fillColor': color_map.get(enjeu, color_map['default']),\n",
    "        'color': 'white',         # Border color\n",
    "        'weight': 0,            # Border weight\n",
    "        'fillOpacity': 0.5        # Fill opacity\n",
    "    }\n",
    "\n",
    "# Convert the GeoDataFrame to GeoJSON and add it to the map\n",
    "folium.GeoJson(\n",
    "    df_final,\n",
    "    style_function=style_function,\n",
    "    name='Zones of Interest'\n",
    ").add_to(m)\n",
    "\n",
    "folium.TileLayer('cartodbpositron').add_to(m)\n",
    "\n"
   ]
  },
  {
   "cell_type": "code",
   "execution_count": 92,
   "metadata": {},
   "outputs": [],
   "source": [
    "# Add layer control if you have multiple layers\n",
    "folium.LayerControl().add_to(m)\n",
    "\n",
    "# Create the legend\n",
    "legend_html = '''\n",
    "    <div style=\"position: fixed; \n",
    "                bottom: 50px; left: 50px; width: 150px; height: auto; \n",
    "                border:2px solid grey; z-index:9999; font-size:14px;\n",
    "                background-color: white;\n",
    "                \">\n",
    "    &nbsp; <b>Zone Legend</b><br>\n",
    "    &nbsp; <i style=\"background: white; width: 24px; height: 24px; display: inline-block; border-radius: 50%;\"></i> Zone redhibitoire<br>\n",
    "    &nbsp; <i style=\"background: blue; width: 24px; height: 24px; display: inline-block; border-radius: 50%;\"></i> Zone non potentiellement favorable<br>\n",
    "    &nbsp; <i style=\"background: orange; width: 24px; height: 24px; display: inline-block; border-radius: 50%;\"></i> Zone potentiellement favorable<br>\n",
    "    &nbsp; <i style=\"background: red; width: 24px; height: 24px; display: inline-block; border-radius: 50%;\"></i> Zone potentiellement favorable<br>\n",
    "    </div>\n",
    "'''\n",
    "\n",
    "# Add the legend to the map\n",
    "m.get_root().html.add_child(folium.Element(legend_html))\n",
    "\n",
    "# Save the map to an HTML file\n",
    "m.save('map_test.html')"
   ]
  },
  {
   "cell_type": "code",
   "execution_count": 93,
   "metadata": {},
   "outputs": [],
   "source": [
    "\n",
    "\n",
    "# # Display the Folium map in the Streamlit app\n",
    "# st.title('Folium Map in Streamlit')\n",
    "# st_folium(m, width=700, height=500)\n"
   ]
  },
  {
   "cell_type": "code",
   "execution_count": null,
   "metadata": {},
   "outputs": [],
   "source": [
    "# import fiona\n",
    "\n",
    "# # List all layers in the GeoPackage\n",
    "# layers = fiona.listlayers(\"sre_cartepotentieleolien_2022_r84_enjeu_1.gpkg\")\n",
    "# print(layers)\n"
   ]
  }
 ],
 "metadata": {
  "kernelspec": {
   "display_name": "final_project",
   "language": "python",
   "name": "python3"
  },
  "language_info": {
   "codemirror_mode": {
    "name": "ipython",
    "version": 3
   },
   "file_extension": ".py",
   "mimetype": "text/x-python",
   "name": "python",
   "nbconvert_exporter": "python",
   "pygments_lexer": "ipython3",
   "version": "3.12.4"
  }
 },
 "nbformat": 4,
 "nbformat_minor": 2
}
