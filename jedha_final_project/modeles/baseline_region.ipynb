{
 "cells": [
  {
   "cell_type": "code",
   "execution_count": null,
   "metadata": {},
   "outputs": [],
   "source": [
    "import pandas as pd\n",
    "from statsmodels.tsa.statespace.sarimax import SARIMAX\n",
    "from calendar import monthrange\n",
    "import matplotlib.pyplot as plt\n",
    "import plotly.express as px\n",
    "from sklearn.metrics import mean_squared_error, mean_absolute_error, mean_absolute_percentage_error\n",
    "import numpy as np"
   ]
  },
  {
   "cell_type": "code",
   "execution_count": null,
   "metadata": {},
   "outputs": [],
   "source": [
    "df = pd.read_csv(\"https://jedha-final-project-jrat.s3.amazonaws.com/datameteo_france_1950-2022_clean_02.csv\")"
   ]
  },
  {
   "cell_type": "code",
   "execution_count": null,
   "metadata": {},
   "outputs": [],
   "source": [
    "df_sample = df[df[\"region\"]==\"CENTRE VAL DE LOIRE\"]"
   ]
  },
  {
   "cell_type": "code",
   "execution_count": null,
   "metadata": {},
   "outputs": [],
   "source": [
    "df_sample.info()"
   ]
  },
  {
   "cell_type": "code",
   "execution_count": null,
   "metadata": {},
   "outputs": [],
   "source": [
    "df_sample.groupby([\"NUM_POSTE\"]).count().sort_values(by=\"NOM_USUEL\")"
   ]
  },
  {
   "cell_type": "code",
   "execution_count": null,
   "metadata": {},
   "outputs": [],
   "source": [
    "# PREPROCESSING DATE\n",
    "\n",
    "df_sample[\"AAAAMM\"] = pd.to_datetime(df_sample[\"AAAAMM\"])\n",
    "\n",
    "def last_day_of_month(aaaamm):\n",
    "    \"\"\"\n",
    "    prend une date et retourne une string avec le jour en dernier jour du mois\n",
    "    \"\"\"\n",
    "    year = aaaamm.year\n",
    "    month = aaaamm.month\n",
    "    last_day = monthrange(year, month)[1]\n",
    "    return f\"{year}-{month:02d}-{last_day:02d}\"\n",
    "\n",
    "df_sample[\"date\"] = df_sample[\"AAAAMM\"].apply(last_day_of_month)\n",
    "df_sample[\"date\"] = pd.to_datetime(df_sample[\"date\"])\n"
   ]
  },
  {
   "cell_type": "code",
   "execution_count": null,
   "metadata": {},
   "outputs": [],
   "source": [
    "to_keep = [\"NUM_POSTE\",\"NOM_USUEL\",\"LAT\",\"LON\",\"ALTI\",\"Year\",\"Month\",\"vent_speed_inst_moy_mensu\",\"departement_num\",\"departement_name\",\"region\",\"date\"]\n",
    "to_drop = [col for col in df_sample if col not in to_keep]"
   ]
  },
  {
   "cell_type": "code",
   "execution_count": null,
   "metadata": {},
   "outputs": [],
   "source": [
    "to_drop"
   ]
  },
  {
   "cell_type": "code",
   "execution_count": null,
   "metadata": {},
   "outputs": [],
   "source": [
    "df_sample = df_sample.drop(to_drop,axis=1)"
   ]
  },
  {
   "cell_type": "code",
   "execution_count": null,
   "metadata": {},
   "outputs": [],
   "source": [
    "len(df_sample[\"NUM_POSTE\"].unique())"
   ]
  },
  {
   "cell_type": "code",
   "execution_count": null,
   "metadata": {},
   "outputs": [],
   "source": [
    "df_sample.isna().sum()"
   ]
  },
  {
   "cell_type": "code",
   "execution_count": null,
   "metadata": {},
   "outputs": [],
   "source": [
    "def get_wind_forecast(time, data):\n",
    "\n",
    "    \"\"\"\n",
    "    INPUT =  nombre de mois (time) à prédire et le set de données\n",
    "\n",
    "    --> prédit la force du vent à horizon \"time\"\n",
    "    \n",
    "    OUTPUT =  le df de test, les prédictions, la MAE et la MAPE\n",
    "    \"\"\"\n",
    "    # calcule date de split \n",
    "    date_limite = data.index.max() - pd.DateOffset(months=time)\n",
    "\n",
    "    # split train / test\n",
    "    train = data[data.index <= date_limite]\n",
    "    test = data[data.index > date_limite]\n",
    "\n",
    "    # split variables exogènes / target\n",
    "    to_keep = [\"LON\",\"LAT\",\"ALTI\"]\n",
    "\n",
    "    var_exog_train = train[to_keep]\n",
    "    y_train = train[\"vent_speed_inst_moy_mensu\"]\n",
    "\n",
    "    var_exog_test = test[to_keep]\n",
    "    y_test = test[\"vent_speed_inst_moy_mensu\"]\n",
    "\n",
    "    # Vérifier la présence de NaN\n",
    "    print(var_exog_train.isna().sum())\n",
    "\n",
    "    # Vérifier la présence de valeurs infinies\n",
    "    print(np.isinf(var_exog_train).sum())\n",
    "\n",
    "\n",
    "    # training\n",
    "    model = SARIMAX(y_train, exog=var_exog_train, order=(1, 1, 1), seasonal_order=(1, 1, 1, 12))\n",
    "    sarima_model = model.fit(maxiter=1000)\n",
    "\n",
    "    # prédictions\n",
    "    forecast = sarima_model.get_forecast(steps = time, exog = var_exog_test)\n",
    "    predicted_values = forecast.predicted_mean\n",
    "\n",
    "    # évaluation\n",
    "    mae = mean_absolute_error(y_test, predicted_values)\n",
    "    mape = mean_absolute_percentage_error(y_test, predicted_values)\n",
    "\n",
    "    # rendu\n",
    "    return test, predicted_values, mae, mape\n"
   ]
  },
  {
   "cell_type": "code",
   "execution_count": null,
   "metadata": {},
   "outputs": [],
   "source": [
    "# créé un dictionnaire contenant un dataframe par numéro de station, puis le dataframe d'éval du modèle\n",
    "# chaque dataset est réindexé sur la date avec fréquence de saisonnalité mensuelle\n",
    "\n",
    "stations = df_sample[\"NUM_POSTE\"].unique()\n",
    "\n",
    "dict_df = {}\n",
    "\n",
    "\n",
    "for station in stations:\n",
    "\n",
    "    df_station = df_sample[df_sample[\"NUM_POSTE\"]==station]\n",
    "    df_station.set_index(\"date\", inplace=True)\n",
    "    df_station = df_station.asfreq(\"ME\")  # 'ME' pour mensuel\n",
    "\n",
    "    # on garde que les stations qui ont minimum 7 ans de données\n",
    "    if len(df_station) >= 84:\n",
    "\n",
    "        df_station_eval, y_pred, mae, mape = get_wind_forecast(84, df_station)\n",
    "        df_station_eval[\"pred_7_ans\"] = y_pred\n",
    "        df_station_eval[\"mae\"] = mae\n",
    "        df_station_eval[\"mape\"] = mape\n",
    "        dict_df[station] = (df_station, df_station_eval)\n",
    "\n",
    "\n",
    "    \n"
   ]
  },
  {
   "cell_type": "code",
   "execution_count": null,
   "metadata": {},
   "outputs": [],
   "source": [
    "stations = df_sample[\"NUM_POSTE\"].unique()\n",
    "\n",
    "dict_df = {}\n",
    "count_84 = 0\n",
    "count_NA = 0\n",
    "\n",
    "for station in stations:\n",
    "\n",
    "\n",
    "    df_station = df_sample[df_sample[\"NUM_POSTE\"]==station]\n",
    "    df_station.set_index(\"date\", inplace=True)\n",
    "    df_station = df_station.asfreq(\"ME\")  # 'ME' pour mensuel\n",
    "    \n",
    "    if len(df_station)-1 >= 84:\n",
    "        print(f\"Station: {station}\")\n",
    "        print(f\"nb_mois = {len(df_station)-1}\")\n",
    "        print()\n",
    "        count_84 += 1\n",
    "        if df_station.isna().any().any() == True:\n",
    "            count_NA += 1\n",
    "\n",
    "print(f\"total station avec mois > 84: {count_84}\")\n",
    "print(f\"total station > 84 avec NA: {count_NA}\")"
   ]
  },
  {
   "cell_type": "code",
   "execution_count": null,
   "metadata": {},
   "outputs": [],
   "source": [
    "print(len(df_sample))\n",
    "\n"
   ]
  },
  {
   "cell_type": "code",
   "execution_count": null,
   "metadata": {},
   "outputs": [],
   "source": []
  }
 ],
 "metadata": {
  "kernelspec": {
   "display_name": "Python 3",
   "language": "python",
   "name": "python3"
  },
  "language_info": {
   "codemirror_mode": {
    "name": "ipython",
    "version": 3
   },
   "file_extension": ".py",
   "mimetype": "text/x-python",
   "name": "python",
   "nbconvert_exporter": "python",
   "pygments_lexer": "ipython3",
   "version": "3.12.5"
  }
 },
 "nbformat": 4,
 "nbformat_minor": 2
}
