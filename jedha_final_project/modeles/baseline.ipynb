{
 "cells": [
  {
   "cell_type": "code",
   "execution_count": 50,
   "metadata": {},
   "outputs": [],
   "source": [
    "import pandas as pd\n",
    "from statsmodels.tsa.statespace.sarimax import SARIMAX\n",
    "from calendar import monthrange\n",
    "import matplotlib.pyplot as plt\n",
    "import plotly.express as px\n",
    "from sklearn.metrics import mean_squared_error, mean_absolute_error, mean_absolute_percentage_error\n",
    "import numpy as np"
   ]
  },
  {
   "cell_type": "code",
   "execution_count": 2,
   "metadata": {},
   "outputs": [],
   "source": [
    "df = pd.read_csv(\"https://jedha-final-project-jrat.s3.amazonaws.com/datameteo_france_1950-2022_clean_02.csv\")"
   ]
  },
  {
   "cell_type": "code",
   "execution_count": 3,
   "metadata": {},
   "outputs": [],
   "source": [
    "df_sample = df[df[\"NUM_POSTE\"]==28070001]"
   ]
  },
  {
   "cell_type": "code",
   "execution_count": 4,
   "metadata": {},
   "outputs": [
    {
     "data": {
      "text/html": [
       "<div>\n",
       "<style scoped>\n",
       "    .dataframe tbody tr th:only-of-type {\n",
       "        vertical-align: middle;\n",
       "    }\n",
       "\n",
       "    .dataframe tbody tr th {\n",
       "        vertical-align: top;\n",
       "    }\n",
       "\n",
       "    .dataframe thead th {\n",
       "        text-align: right;\n",
       "    }\n",
       "</style>\n",
       "<table border=\"1\" class=\"dataframe\">\n",
       "  <thead>\n",
       "    <tr style=\"text-align: right;\">\n",
       "      <th></th>\n",
       "      <th>NUM_POSTE</th>\n",
       "      <th>NOM_USUEL</th>\n",
       "      <th>LAT</th>\n",
       "      <th>LON</th>\n",
       "      <th>ALTI</th>\n",
       "      <th>AAAAMM</th>\n",
       "      <th>Year</th>\n",
       "      <th>Month</th>\n",
       "      <th>precip_cumul_mensu</th>\n",
       "      <th>temp_mean_mensu</th>\n",
       "      <th>...</th>\n",
       "      <th>vent_speed_inst_moy_mensu</th>\n",
       "      <th>vent_speed_inst_max_mensu</th>\n",
       "      <th>vent_dir_inst</th>\n",
       "      <th>vent_nbjour_inst_speedsup10ms</th>\n",
       "      <th>vent_speed_10mn_max_mensu</th>\n",
       "      <th>vent_dir_10mn</th>\n",
       "      <th>vent_nbjour_10mn_speedsup10ms</th>\n",
       "      <th>departement_num</th>\n",
       "      <th>departement_name</th>\n",
       "      <th>region</th>\n",
       "    </tr>\n",
       "  </thead>\n",
       "  <tbody>\n",
       "    <tr>\n",
       "      <th>113156</th>\n",
       "      <td>28070001</td>\n",
       "      <td>CHARTRES</td>\n",
       "      <td>48.4605</td>\n",
       "      <td>1.501167</td>\n",
       "      <td>155</td>\n",
       "      <td>1950-01-01</td>\n",
       "      <td>1950</td>\n",
       "      <td>1</td>\n",
       "      <td>20.6</td>\n",
       "      <td>4.7</td>\n",
       "      <td>...</td>\n",
       "      <td>14.0</td>\n",
       "      <td>54.0</td>\n",
       "      <td>NaN</td>\n",
       "      <td>10.0</td>\n",
       "      <td>NaN</td>\n",
       "      <td>NaN</td>\n",
       "      <td>NaN</td>\n",
       "      <td>28</td>\n",
       "      <td>Eure-et-Loir</td>\n",
       "      <td>CENTRE VAL DE LOIRE</td>\n",
       "    </tr>\n",
       "    <tr>\n",
       "      <th>113157</th>\n",
       "      <td>28070001</td>\n",
       "      <td>CHARTRES</td>\n",
       "      <td>48.4605</td>\n",
       "      <td>1.501167</td>\n",
       "      <td>155</td>\n",
       "      <td>1950-02-01</td>\n",
       "      <td>1950</td>\n",
       "      <td>2</td>\n",
       "      <td>56.8</td>\n",
       "      <td>10.1</td>\n",
       "      <td>...</td>\n",
       "      <td>21.2</td>\n",
       "      <td>72.0</td>\n",
       "      <td>NaN</td>\n",
       "      <td>20.0</td>\n",
       "      <td>NaN</td>\n",
       "      <td>NaN</td>\n",
       "      <td>NaN</td>\n",
       "      <td>28</td>\n",
       "      <td>Eure-et-Loir</td>\n",
       "      <td>CENTRE VAL DE LOIRE</td>\n",
       "    </tr>\n",
       "    <tr>\n",
       "      <th>113158</th>\n",
       "      <td>28070001</td>\n",
       "      <td>CHARTRES</td>\n",
       "      <td>48.4605</td>\n",
       "      <td>1.501167</td>\n",
       "      <td>155</td>\n",
       "      <td>1950-03-01</td>\n",
       "      <td>1950</td>\n",
       "      <td>3</td>\n",
       "      <td>24.4</td>\n",
       "      <td>12.1</td>\n",
       "      <td>...</td>\n",
       "      <td>13.7</td>\n",
       "      <td>64.8</td>\n",
       "      <td>NaN</td>\n",
       "      <td>11.0</td>\n",
       "      <td>NaN</td>\n",
       "      <td>NaN</td>\n",
       "      <td>NaN</td>\n",
       "      <td>28</td>\n",
       "      <td>Eure-et-Loir</td>\n",
       "      <td>CENTRE VAL DE LOIRE</td>\n",
       "    </tr>\n",
       "    <tr>\n",
       "      <th>113159</th>\n",
       "      <td>28070001</td>\n",
       "      <td>CHARTRES</td>\n",
       "      <td>48.4605</td>\n",
       "      <td>1.501167</td>\n",
       "      <td>155</td>\n",
       "      <td>1950-04-01</td>\n",
       "      <td>1950</td>\n",
       "      <td>4</td>\n",
       "      <td>52.8</td>\n",
       "      <td>13.1</td>\n",
       "      <td>...</td>\n",
       "      <td>17.3</td>\n",
       "      <td>68.4</td>\n",
       "      <td>NaN</td>\n",
       "      <td>20.0</td>\n",
       "      <td>NaN</td>\n",
       "      <td>NaN</td>\n",
       "      <td>NaN</td>\n",
       "      <td>28</td>\n",
       "      <td>Eure-et-Loir</td>\n",
       "      <td>CENTRE VAL DE LOIRE</td>\n",
       "    </tr>\n",
       "    <tr>\n",
       "      <th>113160</th>\n",
       "      <td>28070001</td>\n",
       "      <td>CHARTRES</td>\n",
       "      <td>48.4605</td>\n",
       "      <td>1.501167</td>\n",
       "      <td>155</td>\n",
       "      <td>1950-05-01</td>\n",
       "      <td>1950</td>\n",
       "      <td>5</td>\n",
       "      <td>65.6</td>\n",
       "      <td>19.2</td>\n",
       "      <td>...</td>\n",
       "      <td>11.9</td>\n",
       "      <td>72.0</td>\n",
       "      <td>NaN</td>\n",
       "      <td>12.0</td>\n",
       "      <td>NaN</td>\n",
       "      <td>NaN</td>\n",
       "      <td>NaN</td>\n",
       "      <td>28</td>\n",
       "      <td>Eure-et-Loir</td>\n",
       "      <td>CENTRE VAL DE LOIRE</td>\n",
       "    </tr>\n",
       "    <tr>\n",
       "      <th>...</th>\n",
       "      <td>...</td>\n",
       "      <td>...</td>\n",
       "      <td>...</td>\n",
       "      <td>...</td>\n",
       "      <td>...</td>\n",
       "      <td>...</td>\n",
       "      <td>...</td>\n",
       "      <td>...</td>\n",
       "      <td>...</td>\n",
       "      <td>...</td>\n",
       "      <td>...</td>\n",
       "      <td>...</td>\n",
       "      <td>...</td>\n",
       "      <td>...</td>\n",
       "      <td>...</td>\n",
       "      <td>...</td>\n",
       "      <td>...</td>\n",
       "      <td>...</td>\n",
       "      <td>...</td>\n",
       "      <td>...</td>\n",
       "      <td>...</td>\n",
       "    </tr>\n",
       "    <tr>\n",
       "      <th>114027</th>\n",
       "      <td>28070001</td>\n",
       "      <td>CHARTRES</td>\n",
       "      <td>48.4605</td>\n",
       "      <td>1.501167</td>\n",
       "      <td>155</td>\n",
       "      <td>2022-08-01</td>\n",
       "      <td>2022</td>\n",
       "      <td>8</td>\n",
       "      <td>41.4</td>\n",
       "      <td>28.4</td>\n",
       "      <td>...</td>\n",
       "      <td>8.3</td>\n",
       "      <td>51.5</td>\n",
       "      <td>230.0</td>\n",
       "      <td>12.0</td>\n",
       "      <td>23.8</td>\n",
       "      <td>80.0</td>\n",
       "      <td>0.0</td>\n",
       "      <td>28</td>\n",
       "      <td>Eure-et-Loir</td>\n",
       "      <td>CENTRE VAL DE LOIRE</td>\n",
       "    </tr>\n",
       "    <tr>\n",
       "      <th>114028</th>\n",
       "      <td>28070001</td>\n",
       "      <td>CHARTRES</td>\n",
       "      <td>48.4605</td>\n",
       "      <td>1.501167</td>\n",
       "      <td>155</td>\n",
       "      <td>2022-09-01</td>\n",
       "      <td>2022</td>\n",
       "      <td>9</td>\n",
       "      <td>77.1</td>\n",
       "      <td>21.3</td>\n",
       "      <td>...</td>\n",
       "      <td>7.6</td>\n",
       "      <td>60.5</td>\n",
       "      <td>130.0</td>\n",
       "      <td>9.0</td>\n",
       "      <td>33.5</td>\n",
       "      <td>130.0</td>\n",
       "      <td>0.0</td>\n",
       "      <td>28</td>\n",
       "      <td>Eure-et-Loir</td>\n",
       "      <td>CENTRE VAL DE LOIRE</td>\n",
       "    </tr>\n",
       "    <tr>\n",
       "      <th>114029</th>\n",
       "      <td>28070001</td>\n",
       "      <td>CHARTRES</td>\n",
       "      <td>48.4605</td>\n",
       "      <td>1.501167</td>\n",
       "      <td>155</td>\n",
       "      <td>2022-10-01</td>\n",
       "      <td>2022</td>\n",
       "      <td>10</td>\n",
       "      <td>51.7</td>\n",
       "      <td>19.8</td>\n",
       "      <td>...</td>\n",
       "      <td>8.3</td>\n",
       "      <td>73.4</td>\n",
       "      <td>230.0</td>\n",
       "      <td>11.0</td>\n",
       "      <td>36.4</td>\n",
       "      <td>210.0</td>\n",
       "      <td>1.0</td>\n",
       "      <td>28</td>\n",
       "      <td>Eure-et-Loir</td>\n",
       "      <td>CENTRE VAL DE LOIRE</td>\n",
       "    </tr>\n",
       "    <tr>\n",
       "      <th>114030</th>\n",
       "      <td>28070001</td>\n",
       "      <td>CHARTRES</td>\n",
       "      <td>48.4605</td>\n",
       "      <td>1.501167</td>\n",
       "      <td>155</td>\n",
       "      <td>2022-11-01</td>\n",
       "      <td>2022</td>\n",
       "      <td>11</td>\n",
       "      <td>54.9</td>\n",
       "      <td>12.4</td>\n",
       "      <td>...</td>\n",
       "      <td>10.1</td>\n",
       "      <td>66.6</td>\n",
       "      <td>240.0</td>\n",
       "      <td>13.0</td>\n",
       "      <td>32.4</td>\n",
       "      <td>210.0</td>\n",
       "      <td>0.0</td>\n",
       "      <td>28</td>\n",
       "      <td>Eure-et-Loir</td>\n",
       "      <td>CENTRE VAL DE LOIRE</td>\n",
       "    </tr>\n",
       "    <tr>\n",
       "      <th>114031</th>\n",
       "      <td>28070001</td>\n",
       "      <td>CHARTRES</td>\n",
       "      <td>48.4605</td>\n",
       "      <td>1.501167</td>\n",
       "      <td>155</td>\n",
       "      <td>2022-12-01</td>\n",
       "      <td>2022</td>\n",
       "      <td>12</td>\n",
       "      <td>46.8</td>\n",
       "      <td>6.6</td>\n",
       "      <td>...</td>\n",
       "      <td>10.8</td>\n",
       "      <td>66.6</td>\n",
       "      <td>200.0</td>\n",
       "      <td>11.0</td>\n",
       "      <td>30.6</td>\n",
       "      <td>220.0</td>\n",
       "      <td>0.0</td>\n",
       "      <td>28</td>\n",
       "      <td>Eure-et-Loir</td>\n",
       "      <td>CENTRE VAL DE LOIRE</td>\n",
       "    </tr>\n",
       "  </tbody>\n",
       "</table>\n",
       "<p>876 rows × 26 columns</p>\n",
       "</div>"
      ],
      "text/plain": [
       "        NUM_POSTE NOM_USUEL      LAT       LON  ALTI      AAAAMM  Year  Month  \\\n",
       "113156   28070001  CHARTRES  48.4605  1.501167   155  1950-01-01  1950      1   \n",
       "113157   28070001  CHARTRES  48.4605  1.501167   155  1950-02-01  1950      2   \n",
       "113158   28070001  CHARTRES  48.4605  1.501167   155  1950-03-01  1950      3   \n",
       "113159   28070001  CHARTRES  48.4605  1.501167   155  1950-04-01  1950      4   \n",
       "113160   28070001  CHARTRES  48.4605  1.501167   155  1950-05-01  1950      5   \n",
       "...           ...       ...      ...       ...   ...         ...   ...    ...   \n",
       "114027   28070001  CHARTRES  48.4605  1.501167   155  2022-08-01  2022      8   \n",
       "114028   28070001  CHARTRES  48.4605  1.501167   155  2022-09-01  2022      9   \n",
       "114029   28070001  CHARTRES  48.4605  1.501167   155  2022-10-01  2022     10   \n",
       "114030   28070001  CHARTRES  48.4605  1.501167   155  2022-11-01  2022     11   \n",
       "114031   28070001  CHARTRES  48.4605  1.501167   155  2022-12-01  2022     12   \n",
       "\n",
       "        precip_cumul_mensu  temp_mean_mensu  ...  vent_speed_inst_moy_mensu  \\\n",
       "113156                20.6              4.7  ...                       14.0   \n",
       "113157                56.8             10.1  ...                       21.2   \n",
       "113158                24.4             12.1  ...                       13.7   \n",
       "113159                52.8             13.1  ...                       17.3   \n",
       "113160                65.6             19.2  ...                       11.9   \n",
       "...                    ...              ...  ...                        ...   \n",
       "114027                41.4             28.4  ...                        8.3   \n",
       "114028                77.1             21.3  ...                        7.6   \n",
       "114029                51.7             19.8  ...                        8.3   \n",
       "114030                54.9             12.4  ...                       10.1   \n",
       "114031                46.8              6.6  ...                       10.8   \n",
       "\n",
       "        vent_speed_inst_max_mensu  vent_dir_inst  \\\n",
       "113156                       54.0            NaN   \n",
       "113157                       72.0            NaN   \n",
       "113158                       64.8            NaN   \n",
       "113159                       68.4            NaN   \n",
       "113160                       72.0            NaN   \n",
       "...                           ...            ...   \n",
       "114027                       51.5          230.0   \n",
       "114028                       60.5          130.0   \n",
       "114029                       73.4          230.0   \n",
       "114030                       66.6          240.0   \n",
       "114031                       66.6          200.0   \n",
       "\n",
       "        vent_nbjour_inst_speedsup10ms  vent_speed_10mn_max_mensu  \\\n",
       "113156                           10.0                        NaN   \n",
       "113157                           20.0                        NaN   \n",
       "113158                           11.0                        NaN   \n",
       "113159                           20.0                        NaN   \n",
       "113160                           12.0                        NaN   \n",
       "...                               ...                        ...   \n",
       "114027                           12.0                       23.8   \n",
       "114028                            9.0                       33.5   \n",
       "114029                           11.0                       36.4   \n",
       "114030                           13.0                       32.4   \n",
       "114031                           11.0                       30.6   \n",
       "\n",
       "        vent_dir_10mn  vent_nbjour_10mn_speedsup10ms  departement_num  \\\n",
       "113156            NaN                            NaN               28   \n",
       "113157            NaN                            NaN               28   \n",
       "113158            NaN                            NaN               28   \n",
       "113159            NaN                            NaN               28   \n",
       "113160            NaN                            NaN               28   \n",
       "...               ...                            ...              ...   \n",
       "114027           80.0                            0.0               28   \n",
       "114028          130.0                            0.0               28   \n",
       "114029          210.0                            1.0               28   \n",
       "114030          210.0                            0.0               28   \n",
       "114031          220.0                            0.0               28   \n",
       "\n",
       "        departement_name               region  \n",
       "113156      Eure-et-Loir  CENTRE VAL DE LOIRE  \n",
       "113157      Eure-et-Loir  CENTRE VAL DE LOIRE  \n",
       "113158      Eure-et-Loir  CENTRE VAL DE LOIRE  \n",
       "113159      Eure-et-Loir  CENTRE VAL DE LOIRE  \n",
       "113160      Eure-et-Loir  CENTRE VAL DE LOIRE  \n",
       "...                  ...                  ...  \n",
       "114027      Eure-et-Loir  CENTRE VAL DE LOIRE  \n",
       "114028      Eure-et-Loir  CENTRE VAL DE LOIRE  \n",
       "114029      Eure-et-Loir  CENTRE VAL DE LOIRE  \n",
       "114030      Eure-et-Loir  CENTRE VAL DE LOIRE  \n",
       "114031      Eure-et-Loir  CENTRE VAL DE LOIRE  \n",
       "\n",
       "[876 rows x 26 columns]"
      ]
     },
     "execution_count": 4,
     "metadata": {},
     "output_type": "execute_result"
    }
   ],
   "source": [
    "df_sample"
   ]
  },
  {
   "cell_type": "code",
   "execution_count": 5,
   "metadata": {},
   "outputs": [
    {
     "name": "stderr",
     "output_type": "stream",
     "text": [
      "C:\\Users\\alexm\\AppData\\Local\\Temp\\ipykernel_512\\973486660.py:1: SettingWithCopyWarning: \n",
      "A value is trying to be set on a copy of a slice from a DataFrame.\n",
      "Try using .loc[row_indexer,col_indexer] = value instead\n",
      "\n",
      "See the caveats in the documentation: https://pandas.pydata.org/pandas-docs/stable/user_guide/indexing.html#returning-a-view-versus-a-copy\n",
      "  df_sample[\"AAAAMM\"] = pd.to_datetime(df_sample[\"AAAAMM\"])\n"
     ]
    }
   ],
   "source": [
    "df_sample[\"AAAAMM\"] = pd.to_datetime(df_sample[\"AAAAMM\"])\n"
   ]
  },
  {
   "cell_type": "code",
   "execution_count": 6,
   "metadata": {},
   "outputs": [
    {
     "name": "stderr",
     "output_type": "stream",
     "text": [
      "C:\\Users\\alexm\\AppData\\Local\\Temp\\ipykernel_512\\2525275840.py:9: SettingWithCopyWarning: \n",
      "A value is trying to be set on a copy of a slice from a DataFrame.\n",
      "Try using .loc[row_indexer,col_indexer] = value instead\n",
      "\n",
      "See the caveats in the documentation: https://pandas.pydata.org/pandas-docs/stable/user_guide/indexing.html#returning-a-view-versus-a-copy\n",
      "  df_sample[\"date\"] = df_sample[\"AAAAMM\"].apply(last_day_of_month)\n"
     ]
    }
   ],
   "source": [
    "# obtenir le dernier jour du mois pour l'ajouter à la date (important pour la saisonnalité)\n",
    "\n",
    "def last_day_of_month(aaaamm):\n",
    "    year = aaaamm.year\n",
    "    month = aaaamm.month\n",
    "    last_day = monthrange(year, month)[1]\n",
    "    return f\"{year}-{month:02d}-{last_day:02d}\"\n",
    "\n",
    "df_sample[\"date\"] = df_sample[\"AAAAMM\"].apply(last_day_of_month) \n",
    "\n",
    "\n",
    "\n"
   ]
  },
  {
   "cell_type": "code",
   "execution_count": 7,
   "metadata": {},
   "outputs": [
    {
     "name": "stderr",
     "output_type": "stream",
     "text": [
      "C:\\Users\\alexm\\AppData\\Local\\Temp\\ipykernel_512\\3732484278.py:1: SettingWithCopyWarning: \n",
      "A value is trying to be set on a copy of a slice from a DataFrame.\n",
      "Try using .loc[row_indexer,col_indexer] = value instead\n",
      "\n",
      "See the caveats in the documentation: https://pandas.pydata.org/pandas-docs/stable/user_guide/indexing.html#returning-a-view-versus-a-copy\n",
      "  df_sample[\"date\"] = pd.to_datetime(df_sample[\"date\"])\n",
      "C:\\Users\\alexm\\AppData\\Local\\Temp\\ipykernel_512\\3732484278.py:2: SettingWithCopyWarning: \n",
      "A value is trying to be set on a copy of a slice from a DataFrame.\n",
      "Try using .loc[row_indexer,col_indexer] = value instead\n",
      "\n",
      "See the caveats in the documentation: https://pandas.pydata.org/pandas-docs/stable/user_guide/indexing.html#returning-a-view-versus-a-copy\n",
      "  df_sample[\"year\"] = df_sample[\"date\"].dt.year\n",
      "C:\\Users\\alexm\\AppData\\Local\\Temp\\ipykernel_512\\3732484278.py:3: SettingWithCopyWarning: \n",
      "A value is trying to be set on a copy of a slice from a DataFrame.\n",
      "Try using .loc[row_indexer,col_indexer] = value instead\n",
      "\n",
      "See the caveats in the documentation: https://pandas.pydata.org/pandas-docs/stable/user_guide/indexing.html#returning-a-view-versus-a-copy\n",
      "  df_sample[\"month\"] = df_sample[\"date\"].dt.month\n"
     ]
    }
   ],
   "source": [
    "df_sample[\"date\"] = pd.to_datetime(df_sample[\"date\"])\n",
    "df_sample[\"year\"] = df_sample[\"date\"].dt.year\n",
    "df_sample[\"month\"] = df_sample[\"date\"].dt.month\n"
   ]
  },
  {
   "cell_type": "code",
   "execution_count": 8,
   "metadata": {},
   "outputs": [],
   "source": [
    "# Pour modèle sarimax, il faut définir l'index en date et indiquer la fréquence de saisonnalité\n",
    "df_sample.set_index(\"date\", inplace=True)\n"
   ]
  },
  {
   "cell_type": "code",
   "execution_count": 9,
   "metadata": {},
   "outputs": [],
   "source": [
    "df_sample = df_sample.asfreq('ME')  # 'M' pour mensuel"
   ]
  },
  {
   "cell_type": "code",
   "execution_count": 10,
   "metadata": {},
   "outputs": [
    {
     "name": "stdout",
     "output_type": "stream",
     "text": [
      "<class 'pandas.core.frame.DataFrame'>\n",
      "DatetimeIndex: 876 entries, 1950-01-31 to 2022-12-31\n",
      "Freq: ME\n",
      "Data columns (total 28 columns):\n",
      " #   Column                         Non-Null Count  Dtype         \n",
      "---  ------                         --------------  -----         \n",
      " 0   NUM_POSTE                      876 non-null    int64         \n",
      " 1   NOM_USUEL                      876 non-null    object        \n",
      " 2   LAT                            876 non-null    float64       \n",
      " 3   LON                            876 non-null    float64       \n",
      " 4   ALTI                           876 non-null    int64         \n",
      " 5   AAAAMM                         876 non-null    datetime64[ns]\n",
      " 6   Year                           876 non-null    int64         \n",
      " 7   Month                          876 non-null    int64         \n",
      " 8   precip_cumul_mensu             876 non-null    float64       \n",
      " 9   temp_mean_mensu                876 non-null    float64       \n",
      " 10  temp_max_mensu                 876 non-null    float64       \n",
      " 11  temp_min_mensu                 876 non-null    float64       \n",
      " 12  NBJGELEE                       876 non-null    float64       \n",
      " 13  humi_min_mensu                 847 non-null    float64       \n",
      " 14  humi_max_mensu                 876 non-null    float64       \n",
      " 15  humi_moy_mensu                 730 non-null    float64       \n",
      " 16  vent_speed_inst_moy_mensu      876 non-null    float64       \n",
      " 17  vent_speed_inst_max_mensu      876 non-null    float64       \n",
      " 18  vent_dir_inst                  732 non-null    float64       \n",
      " 19  vent_nbjour_inst_speedsup10ms  876 non-null    float64       \n",
      " 20  vent_speed_10mn_max_mensu      600 non-null    float64       \n",
      " 21  vent_dir_10mn                  600 non-null    float64       \n",
      " 22  vent_nbjour_10mn_speedsup10ms  600 non-null    float64       \n",
      " 23  departement_num                876 non-null    int64         \n",
      " 24  departement_name               876 non-null    object        \n",
      " 25  region                         876 non-null    object        \n",
      " 26  year                           876 non-null    int32         \n",
      " 27  month                          876 non-null    int32         \n",
      "dtypes: datetime64[ns](1), float64(17), int32(2), int64(5), object(3)\n",
      "memory usage: 191.6+ KB\n"
     ]
    }
   ],
   "source": [
    "df_sample.info()"
   ]
  },
  {
   "cell_type": "code",
   "execution_count": 11,
   "metadata": {},
   "outputs": [],
   "source": [
    "to_drop = [col for col in df_sample.columns if df_sample[col].isna().any() == True]"
   ]
  },
  {
   "cell_type": "code",
   "execution_count": 12,
   "metadata": {},
   "outputs": [],
   "source": [
    "df_sample = df_sample.drop(to_drop,axis=1)"
   ]
  },
  {
   "cell_type": "code",
   "execution_count": 13,
   "metadata": {},
   "outputs": [
    {
     "data": {
      "text/plain": [
       "count     876.000000\n",
       "mean     1986.000000\n",
       "std        21.083345\n",
       "min      1950.000000\n",
       "25%      1968.000000\n",
       "50%      1986.000000\n",
       "75%      2004.000000\n",
       "max      2022.000000\n",
       "Name: year, dtype: float64"
      ]
     },
     "execution_count": 13,
     "metadata": {},
     "output_type": "execute_result"
    }
   ],
   "source": [
    "df_sample[\"year\"].describe()"
   ]
  },
  {
   "cell_type": "code",
   "execution_count": 14,
   "metadata": {},
   "outputs": [
    {
     "name": "stdout",
     "output_type": "stream",
     "text": [
      "<class 'pandas.core.frame.DataFrame'>\n",
      "DatetimeIndex: 876 entries, 1950-01-31 to 2022-12-31\n",
      "Freq: ME\n",
      "Data columns (total 22 columns):\n",
      " #   Column                         Non-Null Count  Dtype         \n",
      "---  ------                         --------------  -----         \n",
      " 0   NUM_POSTE                      876 non-null    int64         \n",
      " 1   NOM_USUEL                      876 non-null    object        \n",
      " 2   LAT                            876 non-null    float64       \n",
      " 3   LON                            876 non-null    float64       \n",
      " 4   ALTI                           876 non-null    int64         \n",
      " 5   AAAAMM                         876 non-null    datetime64[ns]\n",
      " 6   Year                           876 non-null    int64         \n",
      " 7   Month                          876 non-null    int64         \n",
      " 8   precip_cumul_mensu             876 non-null    float64       \n",
      " 9   temp_mean_mensu                876 non-null    float64       \n",
      " 10  temp_max_mensu                 876 non-null    float64       \n",
      " 11  temp_min_mensu                 876 non-null    float64       \n",
      " 12  NBJGELEE                       876 non-null    float64       \n",
      " 13  humi_max_mensu                 876 non-null    float64       \n",
      " 14  vent_speed_inst_moy_mensu      876 non-null    float64       \n",
      " 15  vent_speed_inst_max_mensu      876 non-null    float64       \n",
      " 16  vent_nbjour_inst_speedsup10ms  876 non-null    float64       \n",
      " 17  departement_num                876 non-null    int64         \n",
      " 18  departement_name               876 non-null    object        \n",
      " 19  region                         876 non-null    object        \n",
      " 20  year                           876 non-null    int32         \n",
      " 21  month                          876 non-null    int32         \n",
      "dtypes: datetime64[ns](1), float64(11), int32(2), int64(5), object(3)\n",
      "memory usage: 150.6+ KB\n"
     ]
    }
   ],
   "source": [
    "df_sample.info()"
   ]
  },
  {
   "cell_type": "code",
   "execution_count": 15,
   "metadata": {},
   "outputs": [],
   "source": [
    "train = df_sample[df_sample[\"year\"]<=2022-7]\n",
    "test = df_sample[df_sample[\"year\"]>2022-7]"
   ]
  },
  {
   "cell_type": "code",
   "execution_count": 16,
   "metadata": {},
   "outputs": [],
   "source": [
    "to_keep = [\"LON\",\"LAT\",\"ALTI\"]\n",
    "\n",
    "var_exog_train = train[to_keep]\n",
    "y_train = train[\"vent_speed_inst_moy_mensu\"]\n",
    "\n",
    "var_exog_test = test[to_keep]\n",
    "y_test = test[\"vent_speed_inst_moy_mensu\"]"
   ]
  },
  {
   "cell_type": "code",
   "execution_count": 17,
   "metadata": {},
   "outputs": [],
   "source": [
    "model = SARIMAX(y_train, exog=var_exog_train, order=(1, 1, 1), seasonal_order=(1, 1, 1, 12))\n",
    "sarima_model = model.fit(maxiter=1000)"
   ]
  },
  {
   "cell_type": "code",
   "execution_count": 18,
   "metadata": {},
   "outputs": [],
   "source": [
    "# Prédiction sur 7 ans => 84 mois\n",
    "forecast = sarima_model.get_forecast(steps=84,exog=var_exog_test)\n",
    "predicted_values = forecast.predicted_mean"
   ]
  },
  {
   "cell_type": "code",
   "execution_count": 19,
   "metadata": {},
   "outputs": [
    {
     "name": "stdout",
     "output_type": "stream",
     "text": [
      "2016-01-31    11.966387\n",
      "2016-02-29    11.854666\n",
      "2016-03-31    11.472959\n",
      "2016-04-30    11.127650\n",
      "2016-05-31    10.304425\n",
      "                ...    \n",
      "2022-08-31     8.414404\n",
      "2022-09-30     8.639961\n",
      "2022-10-31     9.184516\n",
      "2022-11-30    10.004519\n",
      "2022-12-31    11.010836\n",
      "Freq: ME, Name: predicted_mean, Length: 84, dtype: float64\n"
     ]
    }
   ],
   "source": [
    "print(predicted_values)"
   ]
  },
  {
   "cell_type": "code",
   "execution_count": 20,
   "metadata": {},
   "outputs": [
    {
     "name": "stdout",
     "output_type": "stream",
     "text": [
      "RMSE: 1.4408568612091903\n",
      "MAE: 1.0837268631581611\n",
      "MAPE: 0.11919462358392865\n"
     ]
    }
   ],
   "source": [
    "rmse = np.sqrt(mean_squared_error(y_test, predicted_values))\n",
    "mae = mean_absolute_error(y_test, predicted_values)\n",
    "mape = mean_absolute_percentage_error(y_test, predicted_values)\n",
    "\n",
    "\n",
    "print(f\"RMSE: {rmse}\")\n",
    "print(f\"MAE: {mae}\")\n",
    "print(f\"MAPE: {mape}\")"
   ]
  },
  {
   "cell_type": "code",
   "execution_count": 52,
   "metadata": {},
   "outputs": [],
   "source": [
    "def get_wind_forecast(time, data):\n",
    "\n",
    "    \"\"\"\n",
    "    prend le nombre de mois (time) à prédire et le set de données\n",
    "    prédit la force du vent à horizon \"time\"\n",
    "    retourne les prédictions, la MAE et la MAPE\n",
    "    \"\"\"\n",
    "    # calcule date de split \n",
    "    date_limite = data.index.max() - pd.DateOffset(months=time)\n",
    "\n",
    "    # split train / test\n",
    "    train = data[data.index <= date_limite]\n",
    "    test = data[data.index > date_limite]\n",
    "\n",
    "    # split variables exogènes / target\n",
    "    to_keep = [\"LON\",\"LAT\",\"ALTI\"]\n",
    "\n",
    "    var_exog_train = train[to_keep]\n",
    "    y_train = train[\"vent_speed_inst_moy_mensu\"]\n",
    "\n",
    "    var_exog_test = test[to_keep]\n",
    "    y_test = test[\"vent_speed_inst_moy_mensu\"]\n",
    "\n",
    "    # training\n",
    "    model = SARIMAX(y_train, exog=var_exog_train, order=(1, 1, 1), seasonal_order=(1, 1, 1, 12))\n",
    "    sarima_model = model.fit(maxiter=1000)\n",
    "\n",
    "    # prédictions\n",
    "    forecast = sarima_model.get_forecast(steps = time, exog = var_exog_test)\n",
    "    predicted_values = forecast.predicted_mean\n",
    "\n",
    "    # évaluation\n",
    "    mae = mean_absolute_error(y_test, predicted_values)\n",
    "    mape = mean_absolute_percentage_error(y_test, predicted_values)\n",
    "\n",
    "    # rendu\n",
    "    return predicted_values, mae, mape\n",
    "\n",
    "mape_evolution = {\n",
    "    \"time\":[],\n",
    "    \"mape\":[]\n",
    "}\n",
    "\n",
    "time_predicted = [1,2,6,12,24,60,84,120]\n",
    "\n",
    "for duration in time_predicted:\n",
    "    _, _, mape_time = get_wind_forecast(duration,df_sample)\n",
    "    mape_evolution[\"time\"].append(f\"{duration}_mois\")\n",
    "    mape_evolution[\"mape\"].append(mape_time)\n",
    "    \n"
   ]
  },
  {
   "cell_type": "code",
   "execution_count": 54,
   "metadata": {},
   "outputs": [],
   "source": [
    "df_mape_evolution = pd.DataFrame(mape_evolution)"
   ]
  },
  {
   "cell_type": "code",
   "execution_count": 55,
   "metadata": {},
   "outputs": [
    {
     "data": {
      "text/html": [
       "<div>\n",
       "<style scoped>\n",
       "    .dataframe tbody tr th:only-of-type {\n",
       "        vertical-align: middle;\n",
       "    }\n",
       "\n",
       "    .dataframe tbody tr th {\n",
       "        vertical-align: top;\n",
       "    }\n",
       "\n",
       "    .dataframe thead th {\n",
       "        text-align: right;\n",
       "    }\n",
       "</style>\n",
       "<table border=\"1\" class=\"dataframe\">\n",
       "  <thead>\n",
       "    <tr style=\"text-align: right;\">\n",
       "      <th></th>\n",
       "      <th>time</th>\n",
       "      <th>mape</th>\n",
       "    </tr>\n",
       "  </thead>\n",
       "  <tbody>\n",
       "    <tr>\n",
       "      <th>0</th>\n",
       "      <td>1_mois</td>\n",
       "      <td>0.022594</td>\n",
       "    </tr>\n",
       "    <tr>\n",
       "      <th>1</th>\n",
       "      <td>2_mois</td>\n",
       "      <td>0.061307</td>\n",
       "    </tr>\n",
       "    <tr>\n",
       "      <th>2</th>\n",
       "      <td>6_mois</td>\n",
       "      <td>0.060091</td>\n",
       "    </tr>\n",
       "    <tr>\n",
       "      <th>3</th>\n",
       "      <td>12_mois</td>\n",
       "      <td>0.094263</td>\n",
       "    </tr>\n",
       "    <tr>\n",
       "      <th>4</th>\n",
       "      <td>24_mois</td>\n",
       "      <td>0.096199</td>\n",
       "    </tr>\n",
       "    <tr>\n",
       "      <th>5</th>\n",
       "      <td>60_mois</td>\n",
       "      <td>0.094109</td>\n",
       "    </tr>\n",
       "    <tr>\n",
       "      <th>6</th>\n",
       "      <td>84_mois</td>\n",
       "      <td>0.119195</td>\n",
       "    </tr>\n",
       "    <tr>\n",
       "      <th>7</th>\n",
       "      <td>120_mois</td>\n",
       "      <td>0.107913</td>\n",
       "    </tr>\n",
       "  </tbody>\n",
       "</table>\n",
       "</div>"
      ],
      "text/plain": [
       "       time      mape\n",
       "0    1_mois  0.022594\n",
       "1    2_mois  0.061307\n",
       "2    6_mois  0.060091\n",
       "3   12_mois  0.094263\n",
       "4   24_mois  0.096199\n",
       "5   60_mois  0.094109\n",
       "6   84_mois  0.119195\n",
       "7  120_mois  0.107913"
      ]
     },
     "execution_count": 55,
     "metadata": {},
     "output_type": "execute_result"
    }
   ],
   "source": [
    "df_mape_evolution"
   ]
  },
  {
   "cell_type": "code",
   "execution_count": 57,
   "metadata": {},
   "outputs": [
    {
     "data": {
      "application/vnd.plotly.v1+json": {
       "config": {
        "plotlyServerURL": "https://plot.ly"
       },
       "data": [
        {
         "hovertemplate": "time=%{x}<br>mape=%{y}<extra></extra>",
         "legendgroup": "",
         "line": {
          "color": "#636efa",
          "dash": "solid"
         },
         "marker": {
          "symbol": "circle"
         },
         "mode": "lines",
         "name": "",
         "orientation": "v",
         "showlegend": false,
         "type": "scatter",
         "x": [
          "1_mois",
          "2_mois",
          "6_mois",
          "12_mois",
          "24_mois",
          "60_mois",
          "84_mois",
          "120_mois"
         ],
         "xaxis": "x",
         "y": [
          0.022594272443697702,
          0.06130663942837661,
          0.06009060596900745,
          0.09426290733120667,
          0.09619940968145639,
          0.0941088624111076,
          0.11919462358392865,
          0.10791311309626846
         ],
         "yaxis": "y"
        }
       ],
       "layout": {
        "legend": {
         "tracegroupgap": 0
        },
        "margin": {
         "t": 60
        },
        "template": {
         "data": {
          "bar": [
           {
            "error_x": {
             "color": "#2a3f5f"
            },
            "error_y": {
             "color": "#2a3f5f"
            },
            "marker": {
             "line": {
              "color": "#E5ECF6",
              "width": 0.5
             },
             "pattern": {
              "fillmode": "overlay",
              "size": 10,
              "solidity": 0.2
             }
            },
            "type": "bar"
           }
          ],
          "barpolar": [
           {
            "marker": {
             "line": {
              "color": "#E5ECF6",
              "width": 0.5
             },
             "pattern": {
              "fillmode": "overlay",
              "size": 10,
              "solidity": 0.2
             }
            },
            "type": "barpolar"
           }
          ],
          "carpet": [
           {
            "aaxis": {
             "endlinecolor": "#2a3f5f",
             "gridcolor": "white",
             "linecolor": "white",
             "minorgridcolor": "white",
             "startlinecolor": "#2a3f5f"
            },
            "baxis": {
             "endlinecolor": "#2a3f5f",
             "gridcolor": "white",
             "linecolor": "white",
             "minorgridcolor": "white",
             "startlinecolor": "#2a3f5f"
            },
            "type": "carpet"
           }
          ],
          "choropleth": [
           {
            "colorbar": {
             "outlinewidth": 0,
             "ticks": ""
            },
            "type": "choropleth"
           }
          ],
          "contour": [
           {
            "colorbar": {
             "outlinewidth": 0,
             "ticks": ""
            },
            "colorscale": [
             [
              0,
              "#0d0887"
             ],
             [
              0.1111111111111111,
              "#46039f"
             ],
             [
              0.2222222222222222,
              "#7201a8"
             ],
             [
              0.3333333333333333,
              "#9c179e"
             ],
             [
              0.4444444444444444,
              "#bd3786"
             ],
             [
              0.5555555555555556,
              "#d8576b"
             ],
             [
              0.6666666666666666,
              "#ed7953"
             ],
             [
              0.7777777777777778,
              "#fb9f3a"
             ],
             [
              0.8888888888888888,
              "#fdca26"
             ],
             [
              1,
              "#f0f921"
             ]
            ],
            "type": "contour"
           }
          ],
          "contourcarpet": [
           {
            "colorbar": {
             "outlinewidth": 0,
             "ticks": ""
            },
            "type": "contourcarpet"
           }
          ],
          "heatmap": [
           {
            "colorbar": {
             "outlinewidth": 0,
             "ticks": ""
            },
            "colorscale": [
             [
              0,
              "#0d0887"
             ],
             [
              0.1111111111111111,
              "#46039f"
             ],
             [
              0.2222222222222222,
              "#7201a8"
             ],
             [
              0.3333333333333333,
              "#9c179e"
             ],
             [
              0.4444444444444444,
              "#bd3786"
             ],
             [
              0.5555555555555556,
              "#d8576b"
             ],
             [
              0.6666666666666666,
              "#ed7953"
             ],
             [
              0.7777777777777778,
              "#fb9f3a"
             ],
             [
              0.8888888888888888,
              "#fdca26"
             ],
             [
              1,
              "#f0f921"
             ]
            ],
            "type": "heatmap"
           }
          ],
          "heatmapgl": [
           {
            "colorbar": {
             "outlinewidth": 0,
             "ticks": ""
            },
            "colorscale": [
             [
              0,
              "#0d0887"
             ],
             [
              0.1111111111111111,
              "#46039f"
             ],
             [
              0.2222222222222222,
              "#7201a8"
             ],
             [
              0.3333333333333333,
              "#9c179e"
             ],
             [
              0.4444444444444444,
              "#bd3786"
             ],
             [
              0.5555555555555556,
              "#d8576b"
             ],
             [
              0.6666666666666666,
              "#ed7953"
             ],
             [
              0.7777777777777778,
              "#fb9f3a"
             ],
             [
              0.8888888888888888,
              "#fdca26"
             ],
             [
              1,
              "#f0f921"
             ]
            ],
            "type": "heatmapgl"
           }
          ],
          "histogram": [
           {
            "marker": {
             "pattern": {
              "fillmode": "overlay",
              "size": 10,
              "solidity": 0.2
             }
            },
            "type": "histogram"
           }
          ],
          "histogram2d": [
           {
            "colorbar": {
             "outlinewidth": 0,
             "ticks": ""
            },
            "colorscale": [
             [
              0,
              "#0d0887"
             ],
             [
              0.1111111111111111,
              "#46039f"
             ],
             [
              0.2222222222222222,
              "#7201a8"
             ],
             [
              0.3333333333333333,
              "#9c179e"
             ],
             [
              0.4444444444444444,
              "#bd3786"
             ],
             [
              0.5555555555555556,
              "#d8576b"
             ],
             [
              0.6666666666666666,
              "#ed7953"
             ],
             [
              0.7777777777777778,
              "#fb9f3a"
             ],
             [
              0.8888888888888888,
              "#fdca26"
             ],
             [
              1,
              "#f0f921"
             ]
            ],
            "type": "histogram2d"
           }
          ],
          "histogram2dcontour": [
           {
            "colorbar": {
             "outlinewidth": 0,
             "ticks": ""
            },
            "colorscale": [
             [
              0,
              "#0d0887"
             ],
             [
              0.1111111111111111,
              "#46039f"
             ],
             [
              0.2222222222222222,
              "#7201a8"
             ],
             [
              0.3333333333333333,
              "#9c179e"
             ],
             [
              0.4444444444444444,
              "#bd3786"
             ],
             [
              0.5555555555555556,
              "#d8576b"
             ],
             [
              0.6666666666666666,
              "#ed7953"
             ],
             [
              0.7777777777777778,
              "#fb9f3a"
             ],
             [
              0.8888888888888888,
              "#fdca26"
             ],
             [
              1,
              "#f0f921"
             ]
            ],
            "type": "histogram2dcontour"
           }
          ],
          "mesh3d": [
           {
            "colorbar": {
             "outlinewidth": 0,
             "ticks": ""
            },
            "type": "mesh3d"
           }
          ],
          "parcoords": [
           {
            "line": {
             "colorbar": {
              "outlinewidth": 0,
              "ticks": ""
             }
            },
            "type": "parcoords"
           }
          ],
          "pie": [
           {
            "automargin": true,
            "type": "pie"
           }
          ],
          "scatter": [
           {
            "fillpattern": {
             "fillmode": "overlay",
             "size": 10,
             "solidity": 0.2
            },
            "type": "scatter"
           }
          ],
          "scatter3d": [
           {
            "line": {
             "colorbar": {
              "outlinewidth": 0,
              "ticks": ""
             }
            },
            "marker": {
             "colorbar": {
              "outlinewidth": 0,
              "ticks": ""
             }
            },
            "type": "scatter3d"
           }
          ],
          "scattercarpet": [
           {
            "marker": {
             "colorbar": {
              "outlinewidth": 0,
              "ticks": ""
             }
            },
            "type": "scattercarpet"
           }
          ],
          "scattergeo": [
           {
            "marker": {
             "colorbar": {
              "outlinewidth": 0,
              "ticks": ""
             }
            },
            "type": "scattergeo"
           }
          ],
          "scattergl": [
           {
            "marker": {
             "colorbar": {
              "outlinewidth": 0,
              "ticks": ""
             }
            },
            "type": "scattergl"
           }
          ],
          "scattermapbox": [
           {
            "marker": {
             "colorbar": {
              "outlinewidth": 0,
              "ticks": ""
             }
            },
            "type": "scattermapbox"
           }
          ],
          "scatterpolar": [
           {
            "marker": {
             "colorbar": {
              "outlinewidth": 0,
              "ticks": ""
             }
            },
            "type": "scatterpolar"
           }
          ],
          "scatterpolargl": [
           {
            "marker": {
             "colorbar": {
              "outlinewidth": 0,
              "ticks": ""
             }
            },
            "type": "scatterpolargl"
           }
          ],
          "scatterternary": [
           {
            "marker": {
             "colorbar": {
              "outlinewidth": 0,
              "ticks": ""
             }
            },
            "type": "scatterternary"
           }
          ],
          "surface": [
           {
            "colorbar": {
             "outlinewidth": 0,
             "ticks": ""
            },
            "colorscale": [
             [
              0,
              "#0d0887"
             ],
             [
              0.1111111111111111,
              "#46039f"
             ],
             [
              0.2222222222222222,
              "#7201a8"
             ],
             [
              0.3333333333333333,
              "#9c179e"
             ],
             [
              0.4444444444444444,
              "#bd3786"
             ],
             [
              0.5555555555555556,
              "#d8576b"
             ],
             [
              0.6666666666666666,
              "#ed7953"
             ],
             [
              0.7777777777777778,
              "#fb9f3a"
             ],
             [
              0.8888888888888888,
              "#fdca26"
             ],
             [
              1,
              "#f0f921"
             ]
            ],
            "type": "surface"
           }
          ],
          "table": [
           {
            "cells": {
             "fill": {
              "color": "#EBF0F8"
             },
             "line": {
              "color": "white"
             }
            },
            "header": {
             "fill": {
              "color": "#C8D4E3"
             },
             "line": {
              "color": "white"
             }
            },
            "type": "table"
           }
          ]
         },
         "layout": {
          "annotationdefaults": {
           "arrowcolor": "#2a3f5f",
           "arrowhead": 0,
           "arrowwidth": 1
          },
          "autotypenumbers": "strict",
          "coloraxis": {
           "colorbar": {
            "outlinewidth": 0,
            "ticks": ""
           }
          },
          "colorscale": {
           "diverging": [
            [
             0,
             "#8e0152"
            ],
            [
             0.1,
             "#c51b7d"
            ],
            [
             0.2,
             "#de77ae"
            ],
            [
             0.3,
             "#f1b6da"
            ],
            [
             0.4,
             "#fde0ef"
            ],
            [
             0.5,
             "#f7f7f7"
            ],
            [
             0.6,
             "#e6f5d0"
            ],
            [
             0.7,
             "#b8e186"
            ],
            [
             0.8,
             "#7fbc41"
            ],
            [
             0.9,
             "#4d9221"
            ],
            [
             1,
             "#276419"
            ]
           ],
           "sequential": [
            [
             0,
             "#0d0887"
            ],
            [
             0.1111111111111111,
             "#46039f"
            ],
            [
             0.2222222222222222,
             "#7201a8"
            ],
            [
             0.3333333333333333,
             "#9c179e"
            ],
            [
             0.4444444444444444,
             "#bd3786"
            ],
            [
             0.5555555555555556,
             "#d8576b"
            ],
            [
             0.6666666666666666,
             "#ed7953"
            ],
            [
             0.7777777777777778,
             "#fb9f3a"
            ],
            [
             0.8888888888888888,
             "#fdca26"
            ],
            [
             1,
             "#f0f921"
            ]
           ],
           "sequentialminus": [
            [
             0,
             "#0d0887"
            ],
            [
             0.1111111111111111,
             "#46039f"
            ],
            [
             0.2222222222222222,
             "#7201a8"
            ],
            [
             0.3333333333333333,
             "#9c179e"
            ],
            [
             0.4444444444444444,
             "#bd3786"
            ],
            [
             0.5555555555555556,
             "#d8576b"
            ],
            [
             0.6666666666666666,
             "#ed7953"
            ],
            [
             0.7777777777777778,
             "#fb9f3a"
            ],
            [
             0.8888888888888888,
             "#fdca26"
            ],
            [
             1,
             "#f0f921"
            ]
           ]
          },
          "colorway": [
           "#636efa",
           "#EF553B",
           "#00cc96",
           "#ab63fa",
           "#FFA15A",
           "#19d3f3",
           "#FF6692",
           "#B6E880",
           "#FF97FF",
           "#FECB52"
          ],
          "font": {
           "color": "#2a3f5f"
          },
          "geo": {
           "bgcolor": "white",
           "lakecolor": "white",
           "landcolor": "#E5ECF6",
           "showlakes": true,
           "showland": true,
           "subunitcolor": "white"
          },
          "hoverlabel": {
           "align": "left"
          },
          "hovermode": "closest",
          "mapbox": {
           "style": "light"
          },
          "paper_bgcolor": "white",
          "plot_bgcolor": "#E5ECF6",
          "polar": {
           "angularaxis": {
            "gridcolor": "white",
            "linecolor": "white",
            "ticks": ""
           },
           "bgcolor": "#E5ECF6",
           "radialaxis": {
            "gridcolor": "white",
            "linecolor": "white",
            "ticks": ""
           }
          },
          "scene": {
           "xaxis": {
            "backgroundcolor": "#E5ECF6",
            "gridcolor": "white",
            "gridwidth": 2,
            "linecolor": "white",
            "showbackground": true,
            "ticks": "",
            "zerolinecolor": "white"
           },
           "yaxis": {
            "backgroundcolor": "#E5ECF6",
            "gridcolor": "white",
            "gridwidth": 2,
            "linecolor": "white",
            "showbackground": true,
            "ticks": "",
            "zerolinecolor": "white"
           },
           "zaxis": {
            "backgroundcolor": "#E5ECF6",
            "gridcolor": "white",
            "gridwidth": 2,
            "linecolor": "white",
            "showbackground": true,
            "ticks": "",
            "zerolinecolor": "white"
           }
          },
          "shapedefaults": {
           "line": {
            "color": "#2a3f5f"
           }
          },
          "ternary": {
           "aaxis": {
            "gridcolor": "white",
            "linecolor": "white",
            "ticks": ""
           },
           "baxis": {
            "gridcolor": "white",
            "linecolor": "white",
            "ticks": ""
           },
           "bgcolor": "#E5ECF6",
           "caxis": {
            "gridcolor": "white",
            "linecolor": "white",
            "ticks": ""
           }
          },
          "title": {
           "x": 0.05
          },
          "xaxis": {
           "automargin": true,
           "gridcolor": "white",
           "linecolor": "white",
           "ticks": "",
           "title": {
            "standoff": 15
           },
           "zerolinecolor": "white",
           "zerolinewidth": 2
          },
          "yaxis": {
           "automargin": true,
           "gridcolor": "white",
           "linecolor": "white",
           "ticks": "",
           "title": {
            "standoff": 15
           },
           "zerolinecolor": "white",
           "zerolinewidth": 2
          }
         }
        },
        "xaxis": {
         "anchor": "y",
         "domain": [
          0,
          1
         ],
         "title": {
          "text": "time"
         }
        },
        "yaxis": {
         "anchor": "x",
         "domain": [
          0,
          1
         ],
         "title": {
          "text": "mape"
         }
        }
       }
      }
     },
     "metadata": {},
     "output_type": "display_data"
    }
   ],
   "source": [
    "px.line(df_mape_evolution, x=df_mape_evolution[\"time\"], y=df_mape_evolution[\"mape\"])"
   ]
  }
 ],
 "metadata": {
  "kernelspec": {
   "display_name": "jedha_project",
   "language": "python",
   "name": "python3"
  },
  "language_info": {
   "codemirror_mode": {
    "name": "ipython",
    "version": 3
   },
   "file_extension": ".py",
   "mimetype": "text/x-python",
   "name": "python",
   "nbconvert_exporter": "python",
   "pygments_lexer": "ipython3",
   "version": "3.12.5"
  }
 },
 "nbformat": 4,
 "nbformat_minor": 2
}
